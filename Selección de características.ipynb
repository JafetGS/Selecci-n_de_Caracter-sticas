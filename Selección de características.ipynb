{
 "cells": [
  {
   "cell_type": "markdown",
   "id": "4f6bd26a-4871-45d8-ab53-ef083251d1bd",
   "metadata": {},
   "source": [
    "# Selección de Características - Diego Jafet Garza Segovia\n",
    "\n",
    "Primero se debe de importar los datos de la base de datos (Vino Tinto.csv) y guardar dentro de una variable (AE). Para esto se ocupara importar la libreria de pandas (pd).\n",
    "\n",
    "Se mostrara despues las dimensiones del data frame de la base de datos (usando el atributo shape), y las primeras 5 filas de datos de esta misma (usando la funcion head()), mostrando asi sus columnas y tipos de datos que contiene."
   ]
  },
  {
   "cell_type": "code",
   "execution_count": 59,
   "id": "706cfbcc-8c97-43da-9b0d-86a5c26c3d16",
   "metadata": {},
   "outputs": [
    {
     "name": "stdout",
     "output_type": "stream",
     "text": [
      "Dimensiones del data frame:  (1599, 12)\n",
      "   acidezFija  acidezVolatil  acidoCitrico  azucarResidual  cloruros  \\\n",
      "0         7.4           0.70          0.00             1.9     0.076   \n",
      "1         7.8           0.88          0.00             2.6     0.098   \n",
      "2         7.8           0.76          0.04             2.3     0.092   \n",
      "3        11.2           0.28          0.56             1.9     0.075   \n",
      "4         7.4           0.70          0.00             1.9     0.076   \n",
      "\n",
      "   dioxidoAzufreLibre  dioxidoAzufreTotal  densidad    pH  sulfatos  alcohol  \\\n",
      "0                11.0                34.0    0.9978  3.51      0.56      9.4   \n",
      "1                25.0                67.0    0.9968  3.20      0.68      9.8   \n",
      "2                15.0                54.0    0.9970  3.26      0.65      9.8   \n",
      "3                17.0                60.0    0.9980  3.16      0.58      9.8   \n",
      "4                11.0                34.0    0.9978  3.51      0.56      9.4   \n",
      "\n",
      "   calidad  \n",
      "0        5  \n",
      "1        5  \n",
      "2        5  \n",
      "3        6  \n",
      "4        5  \n"
     ]
    }
   ],
   "source": [
    "import pandas as pd\n",
    "AE= pd.read_csv(\"Vino Tinto.csv\")\n",
    "print(\"Dimensiones del data frame: \", AE.shape)\n",
    "print(AE.head(5))"
   ]
  },
  {
   "cell_type": "markdown",
   "id": "f871ffa3-ef1c-499e-85d0-899064549804",
   "metadata": {},
   "source": [
    "Ahora, se separara el data frame de manera aleatoria en datos de entrenamiento (80% del total -> 1279/1599 datos) y datos de prueba (20% del total -> 320/1599 datos) usando las funciones sample y drop respectivamente.\n",
    "\n",
    "Posteriormente para comprobar que los datos se repartieron adecuadamente en 80/20, se imprimira en la consola las dimensiones de estos."
   ]
  },
  {
   "cell_type": "code",
   "execution_count": 61,
   "id": "17d522f0-ade4-4a48-882a-e65aee33f745",
   "metadata": {},
   "outputs": [
    {
     "name": "stdout",
     "output_type": "stream",
     "text": [
      "Dimensiones de datos de entrenamiento:  (1279, 12)\n",
      "Dimensiones de datos de prueba:  (320, 12)\n"
     ]
    }
   ],
   "source": [
    "entre = AE.sample(frac=0.8) #entrenamiento\n",
    "prueba = AE.drop(entre.index)\n",
    "\n",
    "print(\"Dimensiones de datos de entrenamiento: \", entre.shape)\n",
    "print(\"Dimensiones de datos de prueba: \", prueba.shape)"
   ]
  },
  {
   "cell_type": "markdown",
   "id": "3bfa43fd-6d82-401f-bf2c-a408f0c50307",
   "metadata": {},
   "source": [
    "Como se puede ver que las dimensiones de los datos de entrenamiento y prueba son correctos, se generara la metodología de selección hacia adelante y se imprimira en la consola los nombres de las variables seleccionadas.\n",
    "\n",
    "Para esto, hay que importar de la libreria mlxtend.feature_selection la clase SequentialFeatureSelector (SFS) para poder usar esta funcion que nos dara la seleccion hacia adelante, y de sklearn.lineal_model la clase LinearRegression para poder sacar la regresion lineal, el cual es usado dentro del SFS. Se seleccionaran entre 2 y 8 variables.\n",
    "\n",
    "Adicionalmente, se deberan crear las variables X y Y, las cuales tendran el valor de los datos de las columnas correspondientes, siendo Y la calidad y X el resto de las variables.\n",
    "\n",
    "Se imprimira despues, los nombres de las variables seleccionadas por la metodología SFS."
   ]
  },
  {
   "cell_type": "code",
   "execution_count": 62,
   "id": "db179027-a059-4e3f-99f5-bf9979592688",
   "metadata": {},
   "outputs": [
    {
     "name": "stdout",
     "output_type": "stream",
     "text": [
      "Nombre de variables seleccionadas:  ['acidezVolatil', 'cloruros', 'dioxidoAzufreLibre', 'dioxidoAzufreTotal', 'pH', 'sulfatos', 'alcohol']\n"
     ]
    }
   ],
   "source": [
    "from mlxtend.feature_selection import SequentialFeatureSelector\n",
    "from sklearn.linear_model import LinearRegression\n",
    "\n",
    "X = entre[['acidezFija', 'acidezVolatil', 'acidoCitrico', 'azucarResidual', 'cloruros', 'dioxidoAzufreLibre', 'dioxidoAzufreTotal', 'densidad', 'pH', 'sulfatos', 'alcohol']]\n",
    "Y = entre['calidad']\n",
    "\n",
    "SFS = SequentialFeatureSelector(estimator = LinearRegression(), k_features = (2,8), forward = True, scoring = 'r2', cv = 10)\n",
    "SFS = SFS.fit(X, Y)\n",
    "\n",
    "print(\"Nombre de variables seleccionadas: \", list(SFS.k_feature_names_))"
   ]
  },
  {
   "cell_type": "markdown",
   "id": "59bf1afe-dc1c-41aa-bfd8-665ac2c9d5c6",
   "metadata": {},
   "source": [
    "Ahora se entrenara un modelo que solamente contenga las variables seleccionadas, para lo cual se usara la funcion fit pero con la variable X actualizada (Xseleccionados).\n",
    "\n",
    "Despues, se hara una prediccion de la respuesta en las observaciones de prueba. Se deberan generar las variables X y Y (Xprueba, Yprueba) con los datos correspondientes a las pruebas (con los datos de X ya limitados a las variables seleccionadas). Se usara la funcion predict.\n",
    "\n",
    "Luego, se calculara la R^2 para medir la capacidad de predicción del modelo. Para esto se debera importar de la libreria sklearn.metrics la clase r2_score y poder usar su funcion. Posteriormente se imprimira en la consola el valor de este mismo."
   ]
  },
  {
   "cell_type": "code",
   "execution_count": 63,
   "id": "1b422f9d-615f-48bc-85e0-ae8d87b27fe6",
   "metadata": {},
   "outputs": [
    {
     "name": "stdout",
     "output_type": "stream",
     "text": [
      "r^2 =  0.3340761448060561\n"
     ]
    }
   ],
   "source": [
    "Xseleccionados = X[list(SFS.k_feature_names_)]\n",
    "modelo = LinearRegression().fit(Xseleccionados, Y)\n",
    "\n",
    "Xprueba = prueba[list(SFS.k_feature_names_)]\n",
    "Yprueba = prueba['calidad']\n",
    "\n",
    "prediccion = modelo.predict(Xprueba)\n",
    "\n",
    "from sklearn.metrics import r2_score\n",
    "\n",
    "r2 = r2_score(Yprueba, prediccion)\n",
    "print(\"r^2 = \", r2)"
   ]
  },
  {
   "cell_type": "markdown",
   "id": "8fb84c12-6181-40a6-a7bc-5ceebbbe3cf1",
   "metadata": {},
   "source": [
    "Teniendo ahora el R^2 del modelo obtenido usando la metodología de selección hacia adelante, se tomaran las variables seleccionadas y aplicadas en un proceso de selección hacia atrás (SFSatras). \n",
    "\n",
    "Entre 2 y 5 variables seran seleccionadas, y posteriormente el nombre de estas seran impresas en la consola."
   ]
  },
  {
   "cell_type": "code",
   "execution_count": 64,
   "id": "1eca15fc-67ff-4abd-883e-7eaec4d4aca4",
   "metadata": {},
   "outputs": [
    {
     "name": "stdout",
     "output_type": "stream",
     "text": [
      "Nombre de variables seleccionadas:  ('acidezVolatil', 'cloruros', 'dioxidoAzufreTotal', 'sulfatos', 'alcohol')\n"
     ]
    }
   ],
   "source": [
    "SFSatras = SequentialFeatureSelector(estimator = LinearRegression(), k_features = (2,5), forward = False, scoring = 'r2', cv = 10)\n",
    "SFSatras = SFSatras.fit(Xseleccionados, Y)\n",
    "\n",
    "print(\"Nombre de variables seleccionadas: \", SFSatras.k_feature_names_)"
   ]
  },
  {
   "cell_type": "markdown",
   "id": "23c9a372-b473-4b2d-88de-0af9989d916a",
   "metadata": {},
   "source": [
    "Nuevamente, se entrenara un modelo (modelo2) que solamente contenga las nuevas variables seleccionadas (Xseleccionados2), se realizara una prediccion de la respuesta en las observaciones de prueba (prediccion2) para el cual se usara la nueva variable X de prueba (Xprueba2) con los nuevos datos seleccionados, y se obtendra el valor R^2 correspondiente (r22).\n",
    "\n",
    "Similarmente a como se realizo anteriormente, tambien se imprimira el valor de R^2 en la consola."
   ]
  },
  {
   "cell_type": "code",
   "execution_count": 67,
   "id": "30fdd885-1e09-4d3e-8b40-e417e9945b63",
   "metadata": {},
   "outputs": [
    {
     "name": "stdout",
     "output_type": "stream",
     "text": [
      "r^2 =  0.33021077280422595\n"
     ]
    }
   ],
   "source": [
    "Xseleccionados2 = X[list(SFSatras.k_feature_names_)]\n",
    "modelo2 = LinearRegression().fit(Xseleccionados2, Y)\n",
    "\n",
    "Xprueba2 = prueba[list(SFSatras.k_feature_names_)]\n",
    "\n",
    "prediccion2 = modelo2.predict(Xprueba2)\n",
    "\n",
    "r22 = r2_score(Yprueba, prediccion2)\n",
    "print(\"r^2 = \", r22)"
   ]
  },
  {
   "cell_type": "markdown",
   "id": "689623fb-ff48-4fd4-8b96-bfc836046697",
   "metadata": {},
   "source": [
    "Al comparar el primer valor de R^2 (0.3341) obtenido con el segundo valor (0.3302), obtenemos que el primer valor fue mayor que el segundo por 0.0039. \n",
    "\n",
    "Debido a que el R^2 con un proceso de seleccion hacia adelante fue mayor al R^2 con el proceso de seleccion hacia atras, se puede concluir que el primer modelo de 7 variables es mejor que el segundo modelo de 5 variables.\n",
    "\n",
    "Sin embargo debido a la poca diferencia que hay entre los valores de R^2, el segundo modelo tambien podria ser viable ya que contiene menos variables, significando que hay una menor probabilidad de que este siendo sobre ajustado a los parametros actuales."
   ]
  }
 ],
 "metadata": {
  "kernelspec": {
   "display_name": "Python [conda env:base] *",
   "language": "python",
   "name": "conda-base-py"
  },
  "language_info": {
   "codemirror_mode": {
    "name": "ipython",
    "version": 3
   },
   "file_extension": ".py",
   "mimetype": "text/x-python",
   "name": "python",
   "nbconvert_exporter": "python",
   "pygments_lexer": "ipython3",
   "version": "3.13.5"
  }
 },
 "nbformat": 4,
 "nbformat_minor": 5
}
